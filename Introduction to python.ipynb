{
 "cells": [
  {
   "cell_type": "markdown",
   "id": "c76401e3",
   "metadata": {},
   "source": [
    "# Introduction to python"
   ]
  },
  {
   "cell_type": "code",
   "execution_count": 1,
   "id": "e7cf64fb",
   "metadata": {},
   "outputs": [
    {
     "name": "stdout",
     "output_type": "stream",
     "text": [
      "This is my first line\n"
     ]
    }
   ],
   "source": [
    "print('This is my first line')"
   ]
  },
  {
   "cell_type": "code",
   "execution_count": 2,
   "id": "2a391175",
   "metadata": {},
   "outputs": [
    {
     "name": "stdout",
     "output_type": "stream",
     "text": [
      "This is my second line\n"
     ]
    }
   ],
   "source": [
    "print('This is my second line')"
   ]
  },
  {
   "cell_type": "code",
   "execution_count": 3,
   "id": "59604dc0",
   "metadata": {},
   "outputs": [
    {
     "name": "stdout",
     "output_type": "stream",
     "text": [
      "This is my third line\n",
      " This is my fourth line\n"
     ]
    }
   ],
   "source": [
    "print('This is my third line\\n This is my fourth line')"
   ]
  },
  {
   "cell_type": "markdown",
   "id": "62142a2d",
   "metadata": {},
   "source": [
    "# Data types"
   ]
  },
  {
   "cell_type": "markdown",
   "id": "d0067b96",
   "metadata": {},
   "source": [
    "<ol>\n",
    "<li><b>Float</b>Decimal</li>\n",
    "<li><b>Integer</b>Numbers</li>\n",
    "<li><strong>String</strong>Collection of numbers, characters and letters</li>\n",
    "<li><b>Boolean</b>Gives two options</li>\n",
    "</ol>\n"
   ]
  },
  {
   "cell_type": "code",
   "execution_count": 12,
   "id": "53a65f06",
   "metadata": {},
   "outputs": [],
   "source": [
    "x='camphor'"
   ]
  },
  {
   "cell_type": "code",
   "execution_count": 8,
   "id": "21d2c774",
   "metadata": {},
   "outputs": [
    {
     "data": {
      "text/plain": [
       "str"
      ]
     },
     "execution_count": 8,
     "metadata": {},
     "output_type": "execute_result"
    }
   ],
   "source": [
    "type(x)"
   ]
  },
  {
   "cell_type": "code",
   "execution_count": 4,
   "id": "2dc55be8",
   "metadata": {},
   "outputs": [],
   "source": [
    "y=40"
   ]
  },
  {
   "cell_type": "code",
   "execution_count": 34,
   "id": "2118d347",
   "metadata": {},
   "outputs": [
    {
     "data": {
      "text/plain": [
       "int"
      ]
     },
     "execution_count": 34,
     "metadata": {},
     "output_type": "execute_result"
    }
   ],
   "source": [
    "type(y)"
   ]
  },
  {
   "cell_type": "code",
   "execution_count": 6,
   "id": "998cc2ab",
   "metadata": {},
   "outputs": [],
   "source": [
    "z='30'"
   ]
  },
  {
   "cell_type": "code",
   "execution_count": 10,
   "id": "e70accb4",
   "metadata": {},
   "outputs": [
    {
     "data": {
      "text/plain": [
       "'4030'"
      ]
     },
     "execution_count": 10,
     "metadata": {},
     "output_type": "execute_result"
    }
   ],
   "source": [
    "str(y)+z"
   ]
  },
  {
   "cell_type": "markdown",
   "id": "67b16954",
   "metadata": {},
   "source": [
    "# Concatenation"
   ]
  },
  {
   "cell_type": "code",
   "execution_count": 11,
   "id": "92323d53",
   "metadata": {},
   "outputs": [
    {
     "name": "stdout",
     "output_type": "stream",
     "text": [
      "Some trees are hardwood\n"
     ]
    }
   ],
   "source": [
    "print('Some trees are hardwood')"
   ]
  },
  {
   "cell_type": "code",
   "execution_count": 14,
   "id": "561bbd95",
   "metadata": {},
   "outputs": [
    {
     "name": "stdout",
     "output_type": "stream",
     "text": [
      "camphoris a hardwood tree\n"
     ]
    }
   ],
   "source": [
    "print(x+ 'is a hardwood tree')"
   ]
  },
  {
   "cell_type": "code",
   "execution_count": 21,
   "id": "cc154433",
   "metadata": {},
   "outputs": [
    {
     "name": "stdout",
     "output_type": "stream",
     "text": [
      "I have40trees ofcamphor\n"
     ]
    }
   ],
   "source": [
    "print('I have'+str(y)+ 'trees of'+x)"
   ]
  },
  {
   "cell_type": "code",
   "execution_count": 26,
   "id": "0f347ae0",
   "metadata": {},
   "outputs": [
    {
     "data": {
      "text/plain": [
       "'camphor'"
      ]
     },
     "execution_count": 26,
     "metadata": {},
     "output_type": "execute_result"
    }
   ],
   "source": [
    "x.lower()"
   ]
  },
  {
   "cell_type": "code",
   "execution_count": 24,
   "id": "401d07d7",
   "metadata": {},
   "outputs": [
    {
     "data": {
      "text/plain": [
       "'CAMPHOR'"
      ]
     },
     "execution_count": 24,
     "metadata": {},
     "output_type": "execute_result"
    }
   ],
   "source": [
    "x.upper()"
   ]
  },
  {
   "cell_type": "markdown",
   "id": "8c35f302",
   "metadata": {},
   "source": [
    "# Counting the length of strings"
   ]
  },
  {
   "cell_type": "code",
   "execution_count": 27,
   "id": "57a8426a",
   "metadata": {},
   "outputs": [
    {
     "data": {
      "text/plain": [
       "'camphor'"
      ]
     },
     "execution_count": 27,
     "metadata": {},
     "output_type": "execute_result"
    }
   ],
   "source": [
    "x"
   ]
  },
  {
   "cell_type": "code",
   "execution_count": 28,
   "id": "79c6fe16",
   "metadata": {},
   "outputs": [
    {
     "data": {
      "text/plain": [
       "7"
      ]
     },
     "execution_count": 28,
     "metadata": {},
     "output_type": "execute_result"
    }
   ],
   "source": [
    "len(x)"
   ]
  },
  {
   "cell_type": "code",
   "execution_count": 29,
   "id": "c60b3a2a",
   "metadata": {},
   "outputs": [
    {
     "data": {
      "text/plain": [
       "'m'"
      ]
     },
     "execution_count": 29,
     "metadata": {},
     "output_type": "execute_result"
    }
   ],
   "source": [
    "x[2]"
   ]
  },
  {
   "cell_type": "code",
   "execution_count": 31,
   "id": "08f62454",
   "metadata": {},
   "outputs": [
    {
     "data": {
      "text/plain": [
       "'r'"
      ]
     },
     "execution_count": 31,
     "metadata": {},
     "output_type": "execute_result"
    }
   ],
   "source": [
    "x[6]"
   ]
  },
  {
   "cell_type": "markdown",
   "id": "1395c1ca",
   "metadata": {},
   "source": [
    "# Replacement"
   ]
  },
  {
   "cell_type": "code",
   "execution_count": 32,
   "id": "ff3483d8",
   "metadata": {},
   "outputs": [],
   "source": [
    "word='king'"
   ]
  },
  {
   "cell_type": "code",
   "execution_count": 47,
   "id": "f14d16ea",
   "metadata": {},
   "outputs": [],
   "source": [
    "h=word.replace('k','s')"
   ]
  },
  {
   "cell_type": "code",
   "execution_count": 48,
   "id": "63448fc3",
   "metadata": {},
   "outputs": [
    {
     "data": {
      "text/plain": [
       "'sing'"
      ]
     },
     "execution_count": 48,
     "metadata": {},
     "output_type": "execute_result"
    }
   ],
   "source": [
    "h"
   ]
  },
  {
   "cell_type": "code",
   "execution_count": 49,
   "id": "5b80885f",
   "metadata": {},
   "outputs": [],
   "source": [
    "k=word.replace('i','a')"
   ]
  },
  {
   "cell_type": "code",
   "execution_count": 50,
   "id": "5ef2b1c6",
   "metadata": {},
   "outputs": [
    {
     "data": {
      "text/plain": [
       "'kang'"
      ]
     },
     "execution_count": 50,
     "metadata": {},
     "output_type": "execute_result"
    }
   ],
   "source": [
    "k"
   ]
  },
  {
   "cell_type": "markdown",
   "id": "6c9d99a4",
   "metadata": {},
   "source": [
    "# Mathematical Operations"
   ]
  },
  {
   "cell_type": "code",
   "execution_count": 51,
   "id": "d3373a02",
   "metadata": {},
   "outputs": [
    {
     "data": {
      "text/plain": [
       "int"
      ]
     },
     "execution_count": 51,
     "metadata": {},
     "output_type": "execute_result"
    }
   ],
   "source": [
    "type(len('camphor'))"
   ]
  },
  {
   "cell_type": "code",
   "execution_count": 52,
   "id": "39d74166",
   "metadata": {},
   "outputs": [
    {
     "data": {
      "text/plain": [
       "14"
      ]
     },
     "execution_count": 52,
     "metadata": {},
     "output_type": "execute_result"
    }
   ],
   "source": [
    "len('camphor')+7"
   ]
  },
  {
   "cell_type": "code",
   "execution_count": 53,
   "id": "024dd075",
   "metadata": {},
   "outputs": [
    {
     "data": {
      "text/plain": [
       "5"
      ]
     },
     "execution_count": 53,
     "metadata": {},
     "output_type": "execute_result"
    }
   ],
   "source": [
    "len('camphor')-2"
   ]
  },
  {
   "cell_type": "code",
   "execution_count": 54,
   "id": "2deaf808",
   "metadata": {},
   "outputs": [
    {
     "data": {
      "text/plain": [
       "11"
      ]
     },
     "execution_count": 54,
     "metadata": {},
     "output_type": "execute_result"
    }
   ],
   "source": [
    "2+9"
   ]
  },
  {
   "cell_type": "code",
   "execution_count": 55,
   "id": "703de84f",
   "metadata": {},
   "outputs": [
    {
     "data": {
      "text/plain": [
       "15"
      ]
     },
     "execution_count": 55,
     "metadata": {},
     "output_type": "execute_result"
    }
   ],
   "source": [
    "5*3"
   ]
  },
  {
   "cell_type": "code",
   "execution_count": 56,
   "id": "dd349d8f",
   "metadata": {},
   "outputs": [
    {
     "data": {
      "text/plain": [
       "2.0"
      ]
     },
     "execution_count": 56,
     "metadata": {},
     "output_type": "execute_result"
    }
   ],
   "source": [
    "4/2"
   ]
  },
  {
   "cell_type": "markdown",
   "id": "7fe4d74e",
   "metadata": {},
   "source": [
    "# Modular Arithematics"
   ]
  },
  {
   "cell_type": "raw",
   "id": "c5049263",
   "metadata": {},
   "source": [
    "17/7- 2 rem 3"
   ]
  },
  {
   "cell_type": "code",
   "execution_count": 58,
   "id": "67286af0",
   "metadata": {},
   "outputs": [
    {
     "data": {
      "text/plain": [
       "3"
      ]
     },
     "execution_count": 58,
     "metadata": {},
     "output_type": "execute_result"
    }
   ],
   "source": [
    "17%7"
   ]
  },
  {
   "cell_type": "markdown",
   "id": "f63afe42",
   "metadata": {},
   "source": [
    "# Absolute values"
   ]
  },
  {
   "cell_type": "code",
   "execution_count": 60,
   "id": "d8394ca7",
   "metadata": {},
   "outputs": [],
   "source": [
    "a=-39"
   ]
  },
  {
   "cell_type": "code",
   "execution_count": 61,
   "id": "c8646c9c",
   "metadata": {},
   "outputs": [
    {
     "data": {
      "text/plain": [
       "-39"
      ]
     },
     "execution_count": 61,
     "metadata": {},
     "output_type": "execute_result"
    }
   ],
   "source": [
    "a"
   ]
  },
  {
   "cell_type": "code",
   "execution_count": 62,
   "id": "c2688924",
   "metadata": {},
   "outputs": [],
   "source": [
    "b=abs(a)"
   ]
  },
  {
   "cell_type": "code",
   "execution_count": 63,
   "id": "17f41f76",
   "metadata": {},
   "outputs": [
    {
     "data": {
      "text/plain": [
       "39"
      ]
     },
     "execution_count": 63,
     "metadata": {},
     "output_type": "execute_result"
    }
   ],
   "source": [
    "b"
   ]
  },
  {
   "cell_type": "markdown",
   "id": "c9b5c74f",
   "metadata": {},
   "source": [
    "# Maximum and minimum"
   ]
  },
  {
   "cell_type": "code",
   "execution_count": 64,
   "id": "de0881d8",
   "metadata": {},
   "outputs": [
    {
     "data": {
      "text/plain": [
       "500"
      ]
     },
     "execution_count": 64,
     "metadata": {},
     "output_type": "execute_result"
    }
   ],
   "source": [
    "max(100,200,300,400,500)"
   ]
  },
  {
   "cell_type": "code",
   "execution_count": 65,
   "id": "8f65e07e",
   "metadata": {},
   "outputs": [
    {
     "data": {
      "text/plain": [
       "3"
      ]
     },
     "execution_count": 65,
     "metadata": {},
     "output_type": "execute_result"
    }
   ],
   "source": [
    "min(20,90,4,3)"
   ]
  },
  {
   "cell_type": "markdown",
   "id": "ca553629",
   "metadata": {},
   "source": [
    "# Decimal places"
   ]
  },
  {
   "cell_type": "code",
   "execution_count": 66,
   "id": "9a7cd5e1",
   "metadata": {},
   "outputs": [],
   "source": [
    "j=250.385"
   ]
  },
  {
   "cell_type": "code",
   "execution_count": 67,
   "id": "9ea8cb71",
   "metadata": {},
   "outputs": [],
   "source": [
    "k=round(j,1)"
   ]
  },
  {
   "cell_type": "code",
   "execution_count": 68,
   "id": "0ef255c8",
   "metadata": {},
   "outputs": [
    {
     "data": {
      "text/plain": [
       "250.4"
      ]
     },
     "execution_count": 68,
     "metadata": {},
     "output_type": "execute_result"
    }
   ],
   "source": [
    "k"
   ]
  },
  {
   "cell_type": "code",
   "execution_count": 70,
   "id": "ae031415",
   "metadata": {},
   "outputs": [],
   "source": [
    "l=round(j,2)"
   ]
  },
  {
   "cell_type": "code",
   "execution_count": 71,
   "id": "dfab89e6",
   "metadata": {},
   "outputs": [
    {
     "data": {
      "text/plain": [
       "250.38"
      ]
     },
     "execution_count": 71,
     "metadata": {},
     "output_type": "execute_result"
    }
   ],
   "source": [
    "l"
   ]
  },
  {
   "cell_type": "markdown",
   "id": "3653fd86",
   "metadata": {},
   "source": [
    "## Squaring, power and square root"
   ]
  },
  {
   "cell_type": "code",
   "execution_count": 72,
   "id": "002b3f76",
   "metadata": {},
   "outputs": [
    {
     "data": {
      "text/plain": [
       "40"
      ]
     },
     "execution_count": 72,
     "metadata": {},
     "output_type": "execute_result"
    }
   ],
   "source": [
    "y"
   ]
  },
  {
   "cell_type": "code",
   "execution_count": 75,
   "id": "fbbe037b",
   "metadata": {},
   "outputs": [
    {
     "data": {
      "text/plain": [
       "1600"
      ]
     },
     "execution_count": 75,
     "metadata": {},
     "output_type": "execute_result"
    }
   ],
   "source": [
    "y**2"
   ]
  },
  {
   "cell_type": "code",
   "execution_count": 76,
   "id": "f24a0e1d",
   "metadata": {},
   "outputs": [],
   "source": [
    "from math import sqrt"
   ]
  },
  {
   "cell_type": "code",
   "execution_count": 77,
   "id": "02e666ba",
   "metadata": {},
   "outputs": [
    {
     "data": {
      "text/plain": [
       "12.0"
      ]
     },
     "execution_count": 77,
     "metadata": {},
     "output_type": "execute_result"
    }
   ],
   "source": [
    "sqrt(144)"
   ]
  },
  {
   "cell_type": "code",
   "execution_count": null,
   "id": "77d16472",
   "metadata": {},
   "outputs": [],
   "source": []
  }
 ],
 "metadata": {
  "kernelspec": {
   "display_name": "Python 3 (ipykernel)",
   "language": "python",
   "name": "python3"
  },
  "language_info": {
   "codemirror_mode": {
    "name": "ipython",
    "version": 3
   },
   "file_extension": ".py",
   "mimetype": "text/x-python",
   "name": "python",
   "nbconvert_exporter": "python",
   "pygments_lexer": "ipython3",
   "version": "3.9.13"
  }
 },
 "nbformat": 4,
 "nbformat_minor": 5
}
