{
 "cells": [
  {
   "cell_type": "markdown",
   "id": "9803d7e3",
   "metadata": {},
   "source": [
    "Code mode= Green\n",
    "Command mode= Blue"
   ]
  },
  {
   "cell_type": "markdown",
   "id": "0924049b",
   "metadata": {},
   "source": [
    "# Heading 1\n",
    "## Heading 2\n",
    "### Heading 3"
   ]
  },
  {
   "cell_type": "markdown",
   "id": "405fde47",
   "metadata": {},
   "source": [
    "<p>Shift + enter- Runs the current cell and moves to the next cell</p>\n",
    "<p>Ctrl+ enter-Runs the current cell and remains in the same cell</p>\n",
    "<p>Alt+ enter-Runs the current cell and creates another cell below it</p>"
   ]
  },
  {
   "cell_type": "markdown",
   "id": "9f181d7d",
   "metadata": {},
   "source": [
    "<p>A- Inserting a cell above</p>\n",
    "<p>B- Insering a cell below</p>\n",
    "<p>X- Cutting a cell</p>\n",
    "<p>D- Deleting a cell</p>\n",
    "<p>Z- Undo a cell</p>\n",
    "<p>M- Changing the cell to markdown</p>\n",
    "<p>Y- Changing the cell to code mode</p>"
   ]
  },
  {
   "cell_type": "code",
   "execution_count": null,
   "id": "f850d9e0",
   "metadata": {},
   "outputs": [],
   "source": []
  }
 ],
 "metadata": {
  "kernelspec": {
   "display_name": "Python 3 (ipykernel)",
   "language": "python",
   "name": "python3"
  },
  "language_info": {
   "codemirror_mode": {
    "name": "ipython",
    "version": 3
   },
   "file_extension": ".py",
   "mimetype": "text/x-python",
   "name": "python",
   "nbconvert_exporter": "python",
   "pygments_lexer": "ipython3",
   "version": "3.9.13"
  }
 },
 "nbformat": 4,
 "nbformat_minor": 5
}
