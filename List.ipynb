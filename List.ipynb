{
 "cells": [
  {
   "cell_type": "markdown",
   "id": "b6349116",
   "metadata": {},
   "source": [
    "# List in python\n",
    "\n",
    "It is an array or collection of items/elements"
   ]
  },
  {
   "cell_type": "code",
   "execution_count": 1,
   "id": "cdb291ac",
   "metadata": {},
   "outputs": [],
   "source": [
    "countries=['Kenya','Uganda','Tanzania']"
   ]
  },
  {
   "cell_type": "code",
   "execution_count": 2,
   "id": "9078581a",
   "metadata": {},
   "outputs": [
    {
     "data": {
      "text/plain": [
       "list"
      ]
     },
     "execution_count": 2,
     "metadata": {},
     "output_type": "execute_result"
    }
   ],
   "source": [
    "type(countries)"
   ]
  },
  {
   "cell_type": "code",
   "execution_count": 3,
   "id": "776eedae",
   "metadata": {},
   "outputs": [
    {
     "data": {
      "text/plain": [
       "'Kenya'"
      ]
     },
     "execution_count": 3,
     "metadata": {},
     "output_type": "execute_result"
    }
   ],
   "source": [
    "countries[0]"
   ]
  },
  {
   "cell_type": "code",
   "execution_count": 4,
   "id": "84256937",
   "metadata": {},
   "outputs": [
    {
     "data": {
      "text/plain": [
       "'Tanzania'"
      ]
     },
     "execution_count": 4,
     "metadata": {},
     "output_type": "execute_result"
    }
   ],
   "source": [
    "countries[2]"
   ]
  },
  {
   "cell_type": "code",
   "execution_count": 5,
   "id": "7f0123ef",
   "metadata": {},
   "outputs": [
    {
     "data": {
      "text/plain": [
       "3"
      ]
     },
     "execution_count": 5,
     "metadata": {},
     "output_type": "execute_result"
    }
   ],
   "source": [
    "len(countries)"
   ]
  },
  {
   "cell_type": "code",
   "execution_count": 8,
   "id": "16b5a604",
   "metadata": {},
   "outputs": [],
   "source": [
    "values=['mansion',True,56]"
   ]
  },
  {
   "cell_type": "code",
   "execution_count": 9,
   "id": "abd8173c",
   "metadata": {},
   "outputs": [
    {
     "data": {
      "text/plain": [
       "str"
      ]
     },
     "execution_count": 9,
     "metadata": {},
     "output_type": "execute_result"
    }
   ],
   "source": [
    "type(values[0])"
   ]
  },
  {
   "cell_type": "code",
   "execution_count": 10,
   "id": "bbed5dc6",
   "metadata": {},
   "outputs": [
    {
     "data": {
      "text/plain": [
       "bool"
      ]
     },
     "execution_count": 10,
     "metadata": {},
     "output_type": "execute_result"
    }
   ],
   "source": [
    "type(values[1])"
   ]
  },
  {
   "cell_type": "code",
   "execution_count": 11,
   "id": "6750bf23",
   "metadata": {},
   "outputs": [
    {
     "data": {
      "text/plain": [
       "int"
      ]
     },
     "execution_count": 11,
     "metadata": {},
     "output_type": "execute_result"
    }
   ],
   "source": [
    "type(values[2])"
   ]
  },
  {
   "cell_type": "code",
   "execution_count": 12,
   "id": "9aaebdf3",
   "metadata": {},
   "outputs": [
    {
     "data": {
      "text/plain": [
       "int"
      ]
     },
     "execution_count": 12,
     "metadata": {},
     "output_type": "execute_result"
    }
   ],
   "source": [
    "type(values[-1])"
   ]
  },
  {
   "cell_type": "markdown",
   "id": "6c0843a4",
   "metadata": {},
   "source": [
    "## List methods"
   ]
  },
  {
   "cell_type": "code",
   "execution_count": 14,
   "id": "5ec6e55b",
   "metadata": {},
   "outputs": [],
   "source": [
    "list1=[1, 2, 3, 4]"
   ]
  },
  {
   "cell_type": "code",
   "execution_count": 15,
   "id": "41153307",
   "metadata": {},
   "outputs": [],
   "source": [
    "list2=['banana','apple','mangoes','oranges']"
   ]
  },
  {
   "cell_type": "code",
   "execution_count": 16,
   "id": "28c0d29a",
   "metadata": {},
   "outputs": [
    {
     "data": {
      "text/plain": [
       "[1, 2, 3, 4]"
      ]
     },
     "execution_count": 16,
     "metadata": {},
     "output_type": "execute_result"
    }
   ],
   "source": [
    "list1"
   ]
  },
  {
   "cell_type": "code",
   "execution_count": 17,
   "id": "d111a03f",
   "metadata": {},
   "outputs": [
    {
     "data": {
      "text/plain": [
       "['banana', 'apple', 'mangoes', 'oranges']"
      ]
     },
     "execution_count": 17,
     "metadata": {},
     "output_type": "execute_result"
    }
   ],
   "source": [
    "list2"
   ]
  },
  {
   "cell_type": "code",
   "execution_count": 23,
   "id": "a997365d",
   "metadata": {},
   "outputs": [],
   "source": [
    "list3=list2.copy()"
   ]
  },
  {
   "cell_type": "code",
   "execution_count": 24,
   "id": "f609c790",
   "metadata": {},
   "outputs": [
    {
     "data": {
      "text/plain": [
       "['banana', 'apple', 'mangoes', 'oranges', 'cherry']"
      ]
     },
     "execution_count": 24,
     "metadata": {},
     "output_type": "execute_result"
    }
   ],
   "source": [
    "list3"
   ]
  },
  {
   "cell_type": "code",
   "execution_count": 20,
   "id": "010e46ea",
   "metadata": {},
   "outputs": [],
   "source": [
    "list3=list2.append('cherry')"
   ]
  },
  {
   "cell_type": "code",
   "execution_count": 25,
   "id": "4136966b",
   "metadata": {},
   "outputs": [
    {
     "data": {
      "text/plain": [
       "['banana', 'apple', 'mangoes', 'oranges', 'cherry']"
      ]
     },
     "execution_count": 25,
     "metadata": {},
     "output_type": "execute_result"
    }
   ],
   "source": [
    "list3"
   ]
  },
  {
   "cell_type": "code",
   "execution_count": 35,
   "id": "b5ea3079",
   "metadata": {},
   "outputs": [],
   "source": [
    "list2.sort()"
   ]
  },
  {
   "cell_type": "code",
   "execution_count": 36,
   "id": "d4f5d2f2",
   "metadata": {},
   "outputs": [
    {
     "data": {
      "text/plain": [
       "['apple', 'cherry', 'mangoes']"
      ]
     },
     "execution_count": 36,
     "metadata": {},
     "output_type": "execute_result"
    }
   ],
   "source": [
    "list2"
   ]
  },
  {
   "cell_type": "markdown",
   "id": "d2506625",
   "metadata": {},
   "source": [
    "list2"
   ]
  },
  {
   "cell_type": "code",
   "execution_count": 29,
   "id": "37a9d098",
   "metadata": {},
   "outputs": [
    {
     "data": {
      "text/plain": [
       "'banana'"
      ]
     },
     "execution_count": 29,
     "metadata": {},
     "output_type": "execute_result"
    }
   ],
   "source": [
    "list2.pop(1)"
   ]
  },
  {
   "cell_type": "code",
   "execution_count": 30,
   "id": "f8b97edf",
   "metadata": {},
   "outputs": [],
   "source": [
    "l=[200,30,190,283]"
   ]
  },
  {
   "cell_type": "code",
   "execution_count": 31,
   "id": "1167ff52",
   "metadata": {},
   "outputs": [],
   "source": [
    "l.sort()"
   ]
  },
  {
   "cell_type": "code",
   "execution_count": 32,
   "id": "849a66b3",
   "metadata": {},
   "outputs": [
    {
     "data": {
      "text/plain": [
       "[30, 190, 200, 283]"
      ]
     },
     "execution_count": 32,
     "metadata": {},
     "output_type": "execute_result"
    }
   ],
   "source": [
    "l"
   ]
  },
  {
   "cell_type": "code",
   "execution_count": 1,
   "id": "043a640d",
   "metadata": {},
   "outputs": [
    {
     "name": "stdout",
     "output_type": "stream",
     "text": [
      "['honda', 'yamaha', 'suzuki']\n"
     ]
    }
   ],
   "source": [
    "motorcycle=['honda','yamaha','suzuki']\n",
    "print(motorcycle)"
   ]
  },
  {
   "cell_type": "code",
   "execution_count": 12,
   "id": "9af45d06",
   "metadata": {},
   "outputs": [
    {
     "name": "stdout",
     "output_type": "stream",
     "text": [
      "yamaha\n"
     ]
    }
   ],
   "source": [
    "popped_motorcycle=motorcycle.pop()\n",
    "print(popped_motorcycle)"
   ]
  },
  {
   "cell_type": "markdown",
   "id": "4c2beb01",
   "metadata": {},
   "source": [
    "print(motorcycle)"
   ]
  },
  {
   "cell_type": "code",
   "execution_count": 4,
   "id": "ab590371",
   "metadata": {},
   "outputs": [],
   "source": [
    "last_owned=popped_motorcycle"
   ]
  },
  {
   "cell_type": "code",
   "execution_count": 10,
   "id": "b19e13a3",
   "metadata": {},
   "outputs": [
    {
     "name": "stdout",
     "output_type": "stream",
     "text": [
      "The last motorcycle I owned wassuzuki.\n"
     ]
    }
   ],
   "source": [
    "print(\"The last motorcycle I owned was\"+ last_owned +\".\")"
   ]
  },
  {
   "cell_type": "code",
   "execution_count": 17,
   "id": "09591303",
   "metadata": {},
   "outputs": [],
   "source": [
    "motorcycle=['honda','yamaha','suzuki']"
   ]
  },
  {
   "cell_type": "code",
   "execution_count": 19,
   "id": "796f4ef3",
   "metadata": {},
   "outputs": [],
   "source": [
    "first_motorcycle=motorcycle.pop(0)"
   ]
  },
  {
   "cell_type": "code",
   "execution_count": 20,
   "id": "3e5887fa",
   "metadata": {},
   "outputs": [
    {
     "name": "stdout",
     "output_type": "stream",
     "text": [
      "My first motorcycle wasyamaha\n"
     ]
    }
   ],
   "source": [
    "print(\"My first motorcycle was\" + first_motorcycle )"
   ]
  },
  {
   "cell_type": "code",
   "execution_count": 22,
   "id": "eefed220",
   "metadata": {},
   "outputs": [],
   "source": [
    "del motorcycle[0]"
   ]
  },
  {
   "cell_type": "code",
   "execution_count": 24,
   "id": "5923b24d",
   "metadata": {},
   "outputs": [],
   "source": [
    "motorcycle=['honda','yamaha','suzuki']"
   ]
  },
  {
   "cell_type": "code",
   "execution_count": 26,
   "id": "4c11f4c0",
   "metadata": {},
   "outputs": [],
   "source": [
    "motorcycle.remove('yamaha')"
   ]
  },
  {
   "cell_type": "code",
   "execution_count": 27,
   "id": "65fe42e7",
   "metadata": {},
   "outputs": [
    {
     "name": "stdout",
     "output_type": "stream",
     "text": [
      "['honda', 'suzuki']\n"
     ]
    }
   ],
   "source": [
    "print(motorcycle)"
   ]
  },
  {
   "cell_type": "code",
   "execution_count": null,
   "id": "f9839cee",
   "metadata": {},
   "outputs": [],
   "source": []
  }
 ],
 "metadata": {
  "kernelspec": {
   "display_name": "Python 3 (ipykernel)",
   "language": "python",
   "name": "python3"
  },
  "language_info": {
   "codemirror_mode": {
    "name": "ipython",
    "version": 3
   },
   "file_extension": ".py",
   "mimetype": "text/x-python",
   "name": "python",
   "nbconvert_exporter": "python",
   "pygments_lexer": "ipython3",
   "version": "3.9.13"
  }
 },
 "nbformat": 4,
 "nbformat_minor": 5
}
